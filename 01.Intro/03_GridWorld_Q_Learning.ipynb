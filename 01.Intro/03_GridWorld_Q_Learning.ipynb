{
 "cells": [
  {
   "cell_type": "markdown",
   "metadata": {},
   "source": [
    "# Q-Learning Grid World"
   ]
  },
  {
   "cell_type": "code",
   "execution_count": 1,
   "metadata": {},
   "outputs": [],
   "source": [
    "from Qlearning import Agent\r\n",
    "\r\n",
    "ag = Agent()"
   ]
  },
  {
   "cell_type": "code",
   "execution_count": 2,
   "metadata": {},
   "outputs": [
    {
     "name": "stdout",
     "output_type": "stream",
     "text": [
      "Sample 출력(에피소드 10까지)\n",
      "0 0 0 0 0 0 0 0 0 0 0 0 0 0 0 0 0 0 1 1 1 1 1 1 1 1 1 1 1 1 1 1 1 1 1 1 1 1 1 1 1 1 1 1 1 1 1 2 2 2 2 2 2 2 2 2 3 3 3 3 3 3 3 3 3 3 3 3 3 3 3 4 4 4 4 4 4 4 4 4 4 4 4 4 4 4 4 4 4 4 4 4 4 4 4 5 5 5 5 5 5 5 5 5 5 5 5 5 5 5 5 5 5 5 5 5 5 5 5 5 5 5 6 6 6 6 6 6 6 6 6 6 6 6 6 6 6 6 6 6 6 6 6 6 6 6 6 7 7 7 7 7 7 7 7 7 7 7 7 7 7 7 7 7 7 7 7 7 7 7 7 7 7 7 7 7 7 7 7 7 7 7 7 7 7 7 7 7 7 7 7 7 7 7 7 7 7 7 7 7 7 8 8 8 8 8 8 8 8 8 8 8 8 8 8 8 8 8 8 8 8 8 9 9 9 9 9 9 9 9 9 9 9 9 9 9 9 9 9 9 9 9 9 9 9 9 9 9 9 9 9 9 9 9 9 9 9 9 9 9 9 9 9 9 9 9 9 9 9 9 9 9 9 9 9 9 9 9 9 9 9 9 9 9 9 9 9 9 9 9 9 9 9 9 9 9 9 9 10 10 10 10 10 10 10 10 10 10 10 10 "
     ]
    }
   ],
   "source": [
    "ag.play(1000)"
   ]
  },
  {
   "cell_type": "code",
   "execution_count": 3,
   "metadata": {},
   "outputs": [
    {
     "data": {
      "text/plain": [
       "{(0, 0): {'U': 0, 'D': 0, 'L': 0, 'R': 0.648},\n",
       " (0, 1): {'U': 0, 'D': 0, 'L': 0, 'R': 0.726},\n",
       " (0, 2): {'U': 0, 'D': 0, 'L': 0, 'R': 0.836},\n",
       " (0, 3): {'U': 1, 'D': 1, 'L': 1, 'R': 1},\n",
       " (1, 0): {'U': 0, 'D': 0, 'L': 0, 'R': 0.387},\n",
       " (1, 1): {'U': 0, 'D': 0, 'L': 0, 'R': 0},\n",
       " (1, 2): {'U': 0, 'D': 0, 'L': 0.216, 'R': -0.18},\n",
       " (1, 3): {'U': -1, 'D': -1, 'L': -1, 'R': -1},\n",
       " (2, 0): {'U': 0, 'D': 0, 'L': 0.121, 'R': -0.001},\n",
       " (2, 1): {'U': 0, 'D': 0, 'L': 0.086, 'R': -0.005},\n",
       " (2, 2): {'U': 0, 'D': 0, 'L': 0.078, 'R': -0.026},\n",
       " (2, 3): {'U': 0, 'D': 0, 'L': 0, 'R': -0.145}}"
      ]
     },
     "execution_count": 3,
     "metadata": {},
     "output_type": "execute_result"
    }
   ],
   "source": [
    "# 최근의 Q-values\r\n",
    "ag.Q_values"
   ]
  },
  {
   "cell_type": "code",
   "execution_count": null,
   "metadata": {},
   "outputs": [],
   "source": []
  }
 ],
 "metadata": {
  "interpreter": {
   "hash": "8c1eae21719a0790335dcb83aad72b63b602cfe5cdb2bda0f60bc11d4f154e4b"
  },
  "kernelspec": {
   "display_name": "Python 3.8.5 64-bit ('base': conda)",
   "name": "python3"
  },
  "language_info": {
   "codemirror_mode": {
    "name": "ipython",
    "version": 3
   },
   "file_extension": ".py",
   "mimetype": "text/x-python",
   "name": "python",
   "nbconvert_exporter": "python",
   "pygments_lexer": "ipython3",
   "version": "3.8.5"
  },
  "orig_nbformat": 4
 },
 "nbformat": 4,
 "nbformat_minor": 2
}