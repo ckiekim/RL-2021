{
 "cells": [
  {
   "cell_type": "markdown",
   "metadata": {},
   "source": [
    "# 몬테카를로 학습 블랙잭"
   ]
  },
  {
   "cell_type": "code",
   "execution_count": 1,
   "metadata": {},
   "outputs": [],
   "source": [
    "import numpy as np\r\n",
    "import matplotlib.pyplot as plt\r\n",
    "%matplotlib inline"
   ]
  },
  {
   "cell_type": "code",
   "execution_count": 2,
   "metadata": {},
   "outputs": [],
   "source": [
    "from BlackJack import Player, Dealer"
   ]
  },
  {
   "cell_type": "code",
   "execution_count": 3,
   "metadata": {},
   "outputs": [],
   "source": [
    "class StateActionInfo(object):\r\n",
    "    def __init__(self):\r\n",
    "        self.stateActionPairs = []\r\n",
    "        self.stateActionMap = set()\r\n",
    "\r\n",
    "    def addPair(self, pair):\r\n",
    "        if pair in self.stateActionMap:\r\n",
    "            return\r\n",
    "        self.stateActionPairs.append(pair)\r\n",
    "        self.stateActionMap.add(pair)"
   ]
  },
  {
   "cell_type": "code",
   "execution_count": 4,
   "metadata": {},
   "outputs": [],
   "source": [
    "def evaluateAndImprovePolicy(qMap, policy, returns, stateActionPairs, reward):\r\n",
    "    for pair in stateActionPairs:\r\n",
    "        returns[pair] += 1\r\n",
    "        qMap[pair] += (reward - qMap[pair]) / returns[pair]\r\n",
    "        state = pair[0]\r\n",
    "        shouldHit = True if qMap[(state, True)] > qMap[(state, False)] else False\r\n",
    "        policy[state] = shouldHit"
   ]
  },
  {
   "cell_type": "code",
   "execution_count": 5,
   "metadata": {},
   "outputs": [],
   "source": [
    "def newCard():\r\n",
    "    card = np.random.randint(1, 14)\r\n",
    "    return 10 if card > 9 else card"
   ]
  },
  {
   "cell_type": "code",
   "execution_count": 6,
   "metadata": {},
   "outputs": [],
   "source": [
    "def playEpisode(qMap, policy, returns):\r\n",
    "    playerSum = np.random.randint(11,22)\r\n",
    "    dealerOpenCard = np.random.randint(1,11)\r\n",
    "    usableAce = bool(np.random.randint(0,2))\r\n",
    "\r\n",
    "    player = Player(playerSum, usableAce, dealerOpenCard)\r\n",
    "    dealer = Dealer([dealerOpenCard])\r\n",
    "\r\n",
    "    stateActionInfo = StateActionInfo()\r\n",
    "    hitAction = bool(np.random.randint(0,2))\r\n",
    "    stateActionInfo.addPair((player.getState(), hitAction))\r\n",
    "\r\n",
    "    if hitAction:\r\n",
    "        player.receiveCard(newCard())\r\n",
    "        while not player.bust() and player.shouldHit(policy):\r\n",
    "            stateActionInfo.addPair((player.getState(), True))\r\n",
    "            player.receiveCard(newCard())\r\n",
    "\r\n",
    "    if player.bust():\r\n",
    "        evaluateAndImprovePolicy(qMap, policy, returns, stateActionInfo.stateActionPairs, -1)\r\n",
    "        return\r\n",
    "\r\n",
    "    stateActionInfo.addPair((player.getState(), False))\r\n",
    "    dealer.receiveCard(newCard())\r\n",
    "\r\n",
    "    while not dealer.bust() and dealer.shouldHit():\r\n",
    "        dealer.cards.append(newCard())\r\n",
    "\r\n",
    "    if dealer.bust() or dealer.getValue() < player.getValue():\r\n",
    "        evaluateAndImprovePolicy(qMap, policy, returns, stateActionInfo.stateActionPairs, 1)\r\n",
    "    elif dealer.getValue() > player.getValue():\r\n",
    "        evaluateAndImprovePolicy(qMap, policy, returns, stateActionInfo.stateActionPairs, -1)\r\n",
    "    else:\r\n",
    "        evaluateAndImprovePolicy(qMap, policy, returns, stateActionInfo.stateActionPairs, 0)"
   ]
  },
  {
   "cell_type": "code",
   "execution_count": 7,
   "metadata": {},
   "outputs": [],
   "source": [
    "qMap, policy, returns = {}, {}, {}\r\n",
    "\r\n",
    "for playerSum in range(11,22):\r\n",
    "    for usableAce in range(2):\r\n",
    "        for dealerCard in range(1, 11):\r\n",
    "            playerState = (playerSum, bool(usableAce), dealerCard)\r\n",
    "            qMap[(playerState, True)] = 0\r\n",
    "            qMap[(playerState, False)] = 0\r\n",
    "            returns[(playerState, True)] = 0\r\n",
    "            returns[(playerState, False)] = 0\r\n",
    "\r\n",
    "            if playerSum == 20 or playerSum == 21:\r\n",
    "                policy[playerState] = False\r\n",
    "            else:\r\n",
    "                policy[playerState] = True"
   ]
  },
  {
   "cell_type": "code",
   "execution_count": 8,
   "metadata": {},
   "outputs": [],
   "source": [
    "for _ in range(1000000):\r\n",
    "    playEpisode(qMap, policy, returns)"
   ]
  },
  {
   "cell_type": "code",
   "execution_count": 9,
   "metadata": {},
   "outputs": [],
   "source": [
    "x11,y11,x12,y12,x21,y21,x22,y22=[],[],[],[],[],[],[],[]\r\n",
    "\r\n",
    "for playerState in policy:\r\n",
    "    if playerState[1]:\r\n",
    "        if policy[playerState]:\r\n",
    "            x11.append(playerState[2] - 1)\r\n",
    "            y11.append(playerState[0] - 11)\r\n",
    "        else:\r\n",
    "            x12.append(playerState[2] - 1)\r\n",
    "            y12.append(playerState[0] - 11)\r\n",
    "    else:\r\n",
    "        if policy[playerState]:\r\n",
    "            x21.append(playerState[2] - 1)\r\n",
    "            y21.append(playerState[0] - 11)\r\n",
    "        else:\r\n",
    "            x22.append(playerState[2] - 1)\r\n",
    "            y22.append(playerState[0] - 11)"
   ]
  },
  {
   "cell_type": "code",
   "execution_count": 10,
   "metadata": {},
   "outputs": [
    {
     "data": {
      "image/png": "[encoded data removed]",
      "text/plain": [
       "<Figure size 432x288 with 1 Axes>"
      ]
     },
     "metadata": {
      "needs_background": "light"
     },
     "output_type": "display_data"
    }
   ],
   "source": [
    "# Ace를 가지고 있는 경우\r\n",
    "plt.title('With Usable Ace')\r\n",
    "plt.scatter(x11, y11, color='blue')\r\n",
    "plt.scatter(x12, y12, color='yellow')\r\n",
    "plt.xticks(range(10), ['A','2','3','4','5','6','7','8','9','10'])\r\n",
    "plt.yticks(range(11), ['11','12','13','14','15','16','17','18','19','20','21'])\r\n",
    "plt.show()"
   ]
  },
  {
   "cell_type": "code",
   "execution_count": 11,
   "metadata": {},
   "outputs": [
    {
     "data": {
      "image/png": "[encoded data removed]",
      "text/plain": [
       "<Figure size 432x288 with 1 Axes>"
      ]
     },
     "metadata": {
      "needs_background": "light"
     },
     "output_type": "display_data"
    }
   ],
   "source": [
    "# Ace를 가지고 있지 않은 경우\r\n",
    "plt.title('Without Usable Ace')\r\n",
    "plt.scatter(x21, y21, color='blue')\r\n",
    "plt.scatter(x22, y22, color='yellow')\r\n",
    "plt.xticks(range(10), ['A','2','3','4','5','6','7','8','9','10'])\r\n",
    "plt.yticks(range(11), ['11','12','13','14','15','16','17','18','19','20','21'])\r\n",
    "plt.show()"
   ]
  },
  {
   "cell_type": "code",
   "execution_count": null,
   "metadata": {},
   "outputs": [],
   "source": []
  }
 ],
 "metadata": {
  "interpreter": {
   "hash": "8c1eae21719a0790335dcb83aad72b63b602cfe5cdb2bda0f60bc11d4f154e4b"
  },
  "kernelspec": {
   "display_name": "Python 3.8.5 64-bit ('base': conda)",
   "name": "python3"
  },
  "language_info": {
   "codemirror_mode": {
    "name": "ipython",
    "version": 3
   },
   "file_extension": ".py",
   "mimetype": "text/x-python",
   "name": "python",
   "nbconvert_exporter": "python",
   "pygments_lexer": "ipython3",
   "version": "3.8.5"
  },
  "orig_nbformat": 4
 },
 "nbformat": 4,
 "nbformat_minor": 2
}