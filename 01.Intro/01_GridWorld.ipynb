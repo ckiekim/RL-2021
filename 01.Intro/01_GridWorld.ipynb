{
 "cells": [
  {
   "cell_type": "markdown",
   "metadata": {},
   "source": [
    "# 가치 반복법"
   ]
  },
  {
   "cell_type": "code",
   "execution_count": 4,
   "metadata": {},
   "outputs": [],
   "source": [
    "import numpy as np\r\n",
    "from Grid import Grid"
   ]
  },
  {
   "cell_type": "code",
   "execution_count": 3,
   "metadata": {},
   "outputs": [],
   "source": [
    "ACTIONS = ('U', 'D', 'L', 'R')\r\n",
    "DELTA_THRESHOLD = 1e-3\r\n",
    "GAMMA = 0.9"
   ]
  },
  {
   "cell_type": "code",
   "execution_count": 29,
   "metadata": {},
   "outputs": [],
   "source": [
    "def print_values(V, grid):\r\n",
    "    for i in range(grid.rows):\r\n",
    "        print('----------------------------')\r\n",
    "        for k in range(grid.cols):\r\n",
    "            value = V.get((i,k), 0)\r\n",
    "            if value >= 0:\r\n",
    "                print(f' {value:.2f} |', sep='', end='')\r\n",
    "            else:\r\n",
    "                print(f'{value:.2f} |', sep='', end='')\r\n",
    "        print()"
   ]
  },
  {
   "cell_type": "code",
   "execution_count": 33,
   "metadata": {},
   "outputs": [],
   "source": [
    "def print_policy(P, grid):\r\n",
    "    for i in range(grid.rows):\r\n",
    "        print('----------------------------')\r\n",
    "        for k in range(grid.cols):\r\n",
    "            action = P.get((i,k), ' ')\r\n",
    "            print(f'   {action}  |', sep='', end='')\r\n",
    "        print()"
   ]
  },
  {
   "cell_type": "markdown",
   "metadata": {},
   "source": [
    "### 선택 가능한 행동 정의"
   ]
  },
  {
   "cell_type": "code",
   "execution_count": 5,
   "metadata": {},
   "outputs": [],
   "source": [
    "grid = Grid(3, 4, (2, 0))   # rows, cols, start\r\n",
    "rewards = {(0,3): 1, (1,3): -1}\r\n",
    "actions = {\r\n",
    "    (0,0): ('D','R'),\r\n",
    "    (0,1): ('L','R'),\r\n",
    "    (0,2): ('L','D','R'),\r\n",
    "    (1,0): ('U','D'),\r\n",
    "    (1,2): ('U','D','R'),\r\n",
    "    (2,0): ('U','R'),\r\n",
    "    (2,1): ('L','R'),\r\n",
    "    (2,2): ('L','U','R'),\r\n",
    "    (2,3): ('L','U')\r\n",
    "}\r\n",
    "grid.set(rewards, actions)"
   ]
  },
  {
   "cell_type": "code",
   "execution_count": 31,
   "metadata": {},
   "outputs": [
    {
     "name": "stdout",
     "output_type": "stream",
     "text": [
      "----------------------------\n",
      " 0.00 | 0.00 | 0.00 | 1.00 |\n",
      "----------------------------\n",
      " 0.00 | 0.00 | 0.00 |-1.00 |\n",
      "----------------------------\n",
      " 0.00 | 0.00 | 0.00 | 0.00 |\n"
     ]
    }
   ],
   "source": [
    "# 보상을 출력\r\n",
    "print_values(grid.rewards, grid)"
   ]
  },
  {
   "cell_type": "code",
   "execution_count": 34,
   "metadata": {},
   "outputs": [
    {
     "name": "stdout",
     "output_type": "stream",
     "text": [
      "----------------------------\n",
      "   R  |   L  |   L  |      |\n",
      "----------------------------\n",
      "   L  |      |   D  |      |\n",
      "----------------------------\n",
      "   L  |   D  |   L  |   U  |\n"
     ]
    }
   ],
   "source": [
    "# 정책 초기화\r\n",
    "# 초기 정책은 각 상태에서 선택 가능한 행동을 무작위로 선택\r\n",
    "policy = {}\r\n",
    "for s in grid.actions.keys():\r\n",
    "    policy[s] = np.random.choice(ACTIONS)\r\n",
    "print_policy(policy, grid)"
   ]
  },
  {
   "cell_type": "code",
   "execution_count": 37,
   "metadata": {},
   "outputs": [
    {
     "name": "stdout",
     "output_type": "stream",
     "text": [
      "----------------------------\n",
      " 0.10 | 0.11 | 0.34 | 0.00 |\n",
      "----------------------------\n",
      " 0.90 | 0.00 | 0.24 | 0.00 |\n",
      "----------------------------\n",
      " 0.67 | 0.75 | 0.84 | 0.36 |\n"
     ]
    }
   ],
   "source": [
    "# 가치 함수 초기화\r\n",
    "V = {}\r\n",
    "states = grid.all_states()\r\n",
    "for s in states:\r\n",
    "    if s in grid.actions:\r\n",
    "        V[s] = np.random.random()\r\n",
    "    else:\r\n",
    "        V[s] = 0    # 종단 상태\r\n",
    "\r\n",
    "print_values(V, grid)"
   ]
  },
  {
   "cell_type": "code",
   "execution_count": 38,
   "metadata": {},
   "outputs": [
    {
     "name": "stdout",
     "output_type": "stream",
     "text": [
      "\n",
      "0  번째 반복\n",
      "----------------------------\n",
      " 0.81 | 0.31 | 1.00 | 0.00 |\n",
      "----------------------------\n",
      " 0.81 | 0.00 | 0.76 | 0.00 |\n",
      "----------------------------\n",
      " 0.81 | 0.76 | 0.76 | 0.76 |\n",
      "\n",
      "1  번째 반복\n",
      "----------------------------\n",
      " 0.81 | 0.90 | 1.00 | 0.00 |\n",
      "----------------------------\n",
      " 0.73 | 0.00 | 0.90 | 0.00 |\n",
      "----------------------------\n",
      " 0.73 | 0.73 | 0.81 | 0.68 |\n",
      "\n",
      "2  번째 반복\n",
      "----------------------------\n",
      " 0.81 | 0.90 | 1.00 | 0.00 |\n",
      "----------------------------\n",
      " 0.73 | 0.00 | 0.90 | 0.00 |\n",
      "----------------------------\n",
      " 0.66 | 0.73 | 0.81 | 0.73 |\n",
      "\n",
      "3  번째 반복\n",
      "----------------------------\n",
      " 0.81 | 0.90 | 1.00 | 0.00 |\n",
      "----------------------------\n",
      " 0.73 | 0.00 | 0.90 | 0.00 |\n",
      "----------------------------\n",
      " 0.66 | 0.73 | 0.81 | 0.73 |\n",
      "\n",
      "4  번째 반복\n",
      "----------------------------\n",
      " 0.81 | 0.90 | 1.00 | 0.00 |\n",
      "----------------------------\n",
      " 0.73 | 0.00 | 0.90 | 0.00 |\n",
      "----------------------------\n",
      " 0.66 | 0.73 | 0.81 | 0.73 |\n"
     ]
    }
   ],
   "source": [
    "# 수렴할 때까지 반복\r\n",
    "i = 0\r\n",
    "while True:\r\n",
    "    maxChange = 0\r\n",
    "    for s in states:\r\n",
    "        oldValue = V[s]\r\n",
    "\r\n",
    "        # 종단 상태가 아닌 상태에 대해서만 V(s)를 계산\r\n",
    "        if s in policy:\r\n",
    "            newValue = float('-inf')\r\n",
    "            for a in ACTIONS:\r\n",
    "                grid.set_state(s)\r\n",
    "                r = grid.move(a)\r\n",
    "                # 벨만 방정식 계산\r\n",
    "                v = r + GAMMA * V[grid.current_state()]\r\n",
    "                if v > newValue:\r\n",
    "                    newValue = v\r\n",
    "            V[s] = newValue\r\n",
    "            maxChange = max(maxChange, np.abs(oldValue - V[s]))\r\n",
    "\r\n",
    "    print(\"\\n%i  번째 반복\" % i, end = \"\\n\")\r\n",
    "    print_values(V, grid)\r\n",
    "    i += 1 \r\n",
    "\r\n",
    "    if maxChange < DELTA_THRESHOLD:\r\n",
    "        break"
   ]
  },
  {
   "cell_type": "code",
   "execution_count": 39,
   "metadata": {},
   "outputs": [
    {
     "name": "stdout",
     "output_type": "stream",
     "text": [
      "가치 함수: \n",
      "----------------------------\n",
      " 0.81 | 0.90 | 1.00 | 0.00 |\n",
      "----------------------------\n",
      " 0.73 | 0.00 | 0.90 | 0.00 |\n",
      "----------------------------\n",
      " 0.66 | 0.73 | 0.81 | 0.73 |\n",
      "\n",
      "정책: \n",
      "----------------------------\n",
      "   R  |   R  |   R  |      |\n",
      "----------------------------\n",
      "   U  |      |   U  |      |\n",
      "----------------------------\n",
      "   U  |   R  |   U  |   L  |\n"
     ]
    }
   ],
   "source": [
    "# 최적 가치 함수를 찾는 정책을 도출\r\n",
    "for s in policy.keys():\r\n",
    "    bestAction = None\r\n",
    "    bestValue = float('-inf')\r\n",
    "    # 가능한 모든 행동에 대해 반복\r\n",
    "    for a in ACTIONS:\r\n",
    "        grid.set_state(s)\r\n",
    "        r = grid.move(a)\r\n",
    "        v = r + GAMMA * V[grid.current_state()]\r\n",
    "        if v > bestValue:\r\n",
    "            bestValue = v\r\n",
    "            bestAction = a\r\n",
    "    policy[s] = bestAction\r\n",
    "\r\n",
    "# 계산된 가치 함수와 정책을 출력\r\n",
    "print(\"가치 함수: \")\r\n",
    "print_values(V, grid)\r\n",
    "\r\n",
    "print(\"\\n정책: \")\r\n",
    "print_policy(policy, grid)"
   ]
  },
  {
   "cell_type": "code",
   "execution_count": null,
   "metadata": {},
   "outputs": [],
   "source": []
  }
 ],
 "metadata": {
  "language_info": {
   "name": "python",
   "nbconvert_exporter": "python"
  },
  "orig_nbformat": 4
 },
 "nbformat": 4,
 "nbformat_minor": 2
}