{
  "nbformat": 4,
  "nbformat_minor": 0,
  "metadata": {
    "colab": {
      "name": "01_GPT-2.ipynb",
      "provenance": [],
      "collapsed_sections": []
    },
    "kernelspec": {
      "name": "python3",
      "display_name": "Python 3"
    },
    "language_info": {
      "name": "python"
    },
    "accelerator": "GPU"
  },
  "cells": [
    {
      "cell_type": "markdown",
      "metadata": {
        "id": "mYEHQiXuidN9"
      },
      "source": [
        "# GPT-2 모델"
      ]
    },
    {
      "cell_type": "code",
      "metadata": {
        "colab": {
          "base_uri": "https://localhost:8080/"
        },
        "id": "3_QeWFh8iNLp",
        "outputId": "df63b45d-96f5-4c32-fc61-7342c847edb2"
      },
      "source": [
        "# OpenAI GPT-2 코드를 Colab 환경에 내려받기\n",
        "!git clone https://github.com/openai/gpt-2"
      ],
      "execution_count": 1,
      "outputs": [
        {
          "output_type": "stream",
          "text": [
            "Cloning into 'gpt-2'...\n",
            "remote: Enumerating objects: 233, done.\u001b[K\n",
            "remote: Total 233 (delta 0), reused 0 (delta 0), pack-reused 233\u001b[K\n",
            "Receiving objects: 100% (233/233), 4.38 MiB | 9.36 MiB/s, done.\n",
            "Resolving deltas: 100% (124/124), done.\n"
          ],
          "name": "stdout"
        }
      ]
    },
    {
      "cell_type": "code",
      "metadata": {
        "id": "h8ehppxOi34i"
      },
      "source": [
        "import os\n",
        "os.chdir('gpt-2')"
      ],
      "execution_count": 2,
      "outputs": []
    },
    {
      "cell_type": "code",
      "metadata": {
        "colab": {
          "base_uri": "https://localhost:8080/"
        },
        "id": "Rjjl4mOFjNsA",
        "outputId": "83569648-fd6d-4538-b007-e0bafb3e9b11"
      },
      "source": [
        "# 용량이 가장 작은 모델\n",
        "!python3 download_model.py 124M"
      ],
      "execution_count": 3,
      "outputs": [
        {
          "output_type": "stream",
          "text": [
            "Fetching checkpoint: 1.00kit [00:00, 1.20Mit/s]                                                     \n",
            "Fetching encoder.json: 1.04Mit [00:00, 3.41Mit/s]                                                   \n",
            "Fetching hparams.json: 1.00kit [00:00, 1.24Mit/s]                                                   \n",
            "Fetching model.ckpt.data-00000-of-00001: 498Mit [00:22, 21.7Mit/s]                                  \n",
            "Fetching model.ckpt.index: 6.00kit [00:00, 5.57Mit/s]                                               \n",
            "Fetching model.ckpt.meta: 472kit [00:00, 1.81Mit/s]                                                 \n",
            "Fetching vocab.bpe: 457kit [00:00, 1.81Mit/s]                                                       \n"
          ],
          "name": "stdout"
        }
      ]
    },
    {
      "cell_type": "code",
      "metadata": {
        "colab": {
          "base_uri": "https://localhost:8080/",
          "height": 53
        },
        "id": "pWS68tg1jZ2A",
        "outputId": "74abdc9d-818c-4e42-e9b0-773a8ae0cb58"
      },
      "source": [
        "%tensorflow_version 1.x\n",
        "import tensorflow as tf\n",
        "tf.__version__"
      ],
      "execution_count": 4,
      "outputs": [
        {
          "output_type": "stream",
          "text": [
            "TensorFlow 1.x selected.\n"
          ],
          "name": "stdout"
        },
        {
          "output_type": "execute_result",
          "data": {
            "application/vnd.google.colaboratory.intrinsic+json": {
              "type": "string"
            },
            "text/plain": [
              "'1.15.2'"
            ]
          },
          "metadata": {
            "tags": []
          },
          "execution_count": 4
        }
      ]
    },
    {
      "cell_type": "code",
      "metadata": {
        "colab": {
          "base_uri": "https://localhost:8080/",
          "height": 954
        },
        "id": "juEdGrn3jmDx",
        "outputId": "cbfe734b-a611-4ccc-98d3-6281fd3f2c14"
      },
      "source": [
        "# 종속성 라이브러리 설치\n",
        "!pip3 install -r requirements.txt"
      ],
      "execution_count": 5,
      "outputs": [
        {
          "output_type": "stream",
          "text": [
            "Collecting fire>=0.1.3\n",
            "\u001b[?25l  Downloading https://files.pythonhosted.org/packages/11/07/a119a1aa04d37bc819940d95ed7e135a7dcca1c098123a3764a6dcace9e7/fire-0.4.0.tar.gz (87kB)\n",
            "\u001b[K     |████████████████████████████████| 92kB 5.9MB/s \n",
            "\u001b[?25hCollecting regex==2017.4.5\n",
            "\u001b[?25l  Downloading https://files.pythonhosted.org/packages/36/62/c0c0d762ffd4ffaf39f372eb8561b8d491a11ace5a7884610424a8b40f95/regex-2017.04.05.tar.gz (601kB)\n",
            "\u001b[K     |████████████████████████████████| 604kB 44.2MB/s \n",
            "\u001b[?25hCollecting requests==2.21.0\n",
            "\u001b[?25l  Downloading https://files.pythonhosted.org/packages/7d/e3/20f3d364d6c8e5d2353c72a67778eb189176f08e873c9900e10c0287b84b/requests-2.21.0-py2.py3-none-any.whl (57kB)\n",
            "\u001b[K     |████████████████████████████████| 61kB 10.6MB/s \n",
            "\u001b[?25hCollecting tqdm==4.31.1\n",
            "\u001b[?25l  Downloading https://files.pythonhosted.org/packages/6c/4b/c38b5144cf167c4f52288517436ccafefe9dc01b8d1c190e18a6b154cd4a/tqdm-4.31.1-py2.py3-none-any.whl (48kB)\n",
            "\u001b[K     |████████████████████████████████| 51kB 9.2MB/s \n",
            "\u001b[?25hRequirement already satisfied: six in /usr/local/lib/python3.7/dist-packages (from fire>=0.1.3->-r requirements.txt (line 1)) (1.15.0)\n",
            "Requirement already satisfied: termcolor in /usr/local/lib/python3.7/dist-packages (from fire>=0.1.3->-r requirements.txt (line 1)) (1.1.0)\n",
            "Collecting idna<2.9,>=2.5\n",
            "\u001b[?25l  Downloading https://files.pythonhosted.org/packages/14/2c/cd551d81dbe15200be1cf41cd03869a46fe7226e7450af7a6545bfc474c9/idna-2.8-py2.py3-none-any.whl (58kB)\n",
            "\u001b[K     |████████████████████████████████| 61kB 9.3MB/s \n",
            "\u001b[?25hRequirement already satisfied: certifi>=2017.4.17 in /usr/local/lib/python3.7/dist-packages (from requests==2.21.0->-r requirements.txt (line 3)) (2021.5.30)\n",
            "Requirement already satisfied: urllib3<1.25,>=1.21.1 in /usr/local/lib/python3.7/dist-packages (from requests==2.21.0->-r requirements.txt (line 3)) (1.24.3)\n",
            "Requirement already satisfied: chardet<3.1.0,>=3.0.2 in /usr/local/lib/python3.7/dist-packages (from requests==2.21.0->-r requirements.txt (line 3)) (3.0.4)\n",
            "Building wheels for collected packages: fire, regex\n",
            "  Building wheel for fire (setup.py) ... \u001b[?25l\u001b[?25hdone\n",
            "  Created wheel for fire: filename=fire-0.4.0-py2.py3-none-any.whl size=115943 sha256=a2ed9726e6511835f74ebe828e5e0a3174df813cb3fe4e99e60c2ed9bae68717\n",
            "  Stored in directory: /root/.cache/pip/wheels/af/19/30/1ea0cad502dcb4e66ed5a690279628c827aea38bbbab75d5ed\n",
            "  Building wheel for regex (setup.py) ... \u001b[?25l\u001b[?25hdone\n",
            "  Created wheel for regex: filename=regex-2017.4.5-cp37-cp37m-linux_x86_64.whl size=534426 sha256=812ba28ad8b67339795542c45d38f2b835c076feb3eb0513cd200cb14779606d\n",
            "  Stored in directory: /root/.cache/pip/wheels/75/07/38/3c16b529d50cb4e0cd3dbc7b75cece8a09c132692c74450b01\n",
            "Successfully built fire regex\n",
            "\u001b[31mERROR: spacy 2.2.4 has requirement tqdm<5.0.0,>=4.38.0, but you'll have tqdm 4.31.1 which is incompatible.\u001b[0m\n",
            "\u001b[31mERROR: kapre 0.3.5 has requirement tensorflow>=2.0.0, but you'll have tensorflow 1.15.2 which is incompatible.\u001b[0m\n",
            "\u001b[31mERROR: google-colab 1.0.0 has requirement requests~=2.23.0, but you'll have requests 2.21.0 which is incompatible.\u001b[0m\n",
            "\u001b[31mERROR: fbprophet 0.7.1 has requirement tqdm>=4.36.1, but you'll have tqdm 4.31.1 which is incompatible.\u001b[0m\n",
            "\u001b[31mERROR: datascience 0.10.6 has requirement folium==0.2.1, but you'll have folium 0.8.3 which is incompatible.\u001b[0m\n",
            "Installing collected packages: fire, regex, idna, requests, tqdm\n",
            "  Found existing installation: regex 2019.12.20\n",
            "    Uninstalling regex-2019.12.20:\n",
            "      Successfully uninstalled regex-2019.12.20\n",
            "  Found existing installation: idna 2.10\n",
            "    Uninstalling idna-2.10:\n",
            "      Successfully uninstalled idna-2.10\n",
            "  Found existing installation: requests 2.23.0\n",
            "    Uninstalling requests-2.23.0:\n",
            "      Successfully uninstalled requests-2.23.0\n",
            "  Found existing installation: tqdm 4.41.1\n",
            "    Uninstalling tqdm-4.41.1:\n",
            "      Successfully uninstalled tqdm-4.41.1\n",
            "Successfully installed fire-0.4.0 idna-2.8 regex-2017.4.5 requests-2.21.0 tqdm-4.31.1\n"
          ],
          "name": "stdout"
        },
        {
          "output_type": "display_data",
          "data": {
            "application/vnd.colab-display-data+json": {
              "pip_warning": {
                "packages": [
                  "idna",
                  "requests"
                ]
              }
            }
          },
          "metadata": {
            "tags": []
          }
        }
      ]
    },
    {
      "cell_type": "code",
      "metadata": {
        "colab": {
          "base_uri": "https://localhost:8080/",
          "height": 53
        },
        "id": "Ch_tiFmfE95-",
        "outputId": "eba435a7-8595-4e18-c81d-1ec4f2db61d3"
      },
      "source": [
        "# Restart 후 다시 실행\n",
        "import os\n",
        "os.chdir('gpt-2')\n",
        "\n",
        "%tensorflow_version 1.x\n",
        "import tensorflow as tf\n",
        "tf.__version__"
      ],
      "execution_count": 1,
      "outputs": [
        {
          "output_type": "stream",
          "text": [
            "TensorFlow 1.x selected.\n"
          ],
          "name": "stdout"
        },
        {
          "output_type": "execute_result",
          "data": {
            "application/vnd.google.colaboratory.intrinsic+json": {
              "type": "string"
            },
            "text/plain": [
              "'1.15.2'"
            ]
          },
          "metadata": {
            "tags": []
          },
          "execution_count": 1
        }
      ]
    },
    {
      "cell_type": "code",
      "metadata": {
        "id": "TdaqccPCj3iR"
      },
      "source": [
        "# 인코딩 설정\n",
        "!export PYTHONIOENCODING=UTF-8"
      ],
      "execution_count": 2,
      "outputs": []
    },
    {
      "cell_type": "markdown",
      "metadata": {
        "id": "dA_nrclikQuP"
      },
      "source": [
        "### 모델로 문장 생성"
      ]
    },
    {
      "cell_type": "code",
      "metadata": {
        "colab": {
          "base_uri": "https://localhost:8080/"
        },
        "id": "RMVFuv6DkMji",
        "outputId": "434f5d82-8aeb-46ab-a5aa-b839367423e0"
      },
      "source": [
        "!python3 src/generate_unconditional_samples.py --model_name='124M' --nsamples=5 --top_k=40 --length=200 | tee samples"
      ],
      "execution_count": 3,
      "outputs": [
        {
          "output_type": "stream",
          "text": [
            "WARNING:tensorflow:From src/generate_unconditional_samples.py:54: The name tf.Session is deprecated. Please use tf.compat.v1.Session instead.\n",
            "\n",
            "2021-07-12 04:58:50.777619: I tensorflow/stream_executor/platform/default/dso_loader.cc:44] Successfully opened dynamic library libcuda.so.1\n",
            "2021-07-12 04:58:50.826408: I tensorflow/stream_executor/cuda/cuda_gpu_executor.cc:983] successful NUMA node read from SysFS had negative value (-1), but there must be at least one NUMA node, so returning NUMA node zero\n",
            "2021-07-12 04:58:50.827042: I tensorflow/core/common_runtime/gpu/gpu_device.cc:1639] Found device 0 with properties: \n",
            "name: Tesla T4 major: 7 minor: 5 memoryClockRate(GHz): 1.59\n",
            "pciBusID: 0000:00:04.0\n",
            "2021-07-12 04:58:50.839044: I tensorflow/stream_executor/platform/default/dso_loader.cc:44] Successfully opened dynamic library libcudart.so.10.1\n",
            "2021-07-12 04:58:51.035747: I tensorflow/stream_executor/platform/default/dso_loader.cc:44] Successfully opened dynamic library libcublas.so.10\n",
            "2021-07-12 04:58:51.180784: I tensorflow/stream_executor/platform/default/dso_loader.cc:44] Successfully opened dynamic library libcufft.so.10\n",
            "2021-07-12 04:58:51.194242: I tensorflow/stream_executor/platform/default/dso_loader.cc:44] Successfully opened dynamic library libcurand.so.10\n",
            "2021-07-12 04:58:51.473901: I tensorflow/stream_executor/platform/default/dso_loader.cc:44] Successfully opened dynamic library libcusolver.so.10\n",
            "2021-07-12 04:58:51.487269: I tensorflow/stream_executor/platform/default/dso_loader.cc:44] Successfully opened dynamic library libcusparse.so.10\n",
            "2021-07-12 04:58:51.992907: I tensorflow/stream_executor/platform/default/dso_loader.cc:44] Successfully opened dynamic library libcudnn.so.7\n",
            "2021-07-12 04:58:51.993103: I tensorflow/stream_executor/cuda/cuda_gpu_executor.cc:983] successful NUMA node read from SysFS had negative value (-1), but there must be at least one NUMA node, so returning NUMA node zero\n",
            "2021-07-12 04:58:51.993768: I tensorflow/stream_executor/cuda/cuda_gpu_executor.cc:983] successful NUMA node read from SysFS had negative value (-1), but there must be at least one NUMA node, so returning NUMA node zero\n",
            "2021-07-12 04:58:51.994306: I tensorflow/core/common_runtime/gpu/gpu_device.cc:1767] Adding visible gpu devices: 0\n",
            "2021-07-12 04:58:51.994796: I tensorflow/core/platform/cpu_feature_guard.cc:142] Your CPU supports instructions that this TensorFlow binary was not compiled to use: AVX512F\n",
            "2021-07-12 04:58:52.008522: I tensorflow/core/platform/profile_utils/cpu_utils.cc:94] CPU Frequency: 2000185000 Hz\n",
            "2021-07-12 04:58:52.008798: I tensorflow/compiler/xla/service/service.cc:168] XLA service 0x5634a1661100 initialized for platform Host (this does not guarantee that XLA will be used). Devices:\n",
            "2021-07-12 04:58:52.008828: I tensorflow/compiler/xla/service/service.cc:176]   StreamExecutor device (0): Host, Default Version\n",
            "2021-07-12 04:58:52.141688: I tensorflow/stream_executor/cuda/cuda_gpu_executor.cc:983] successful NUMA node read from SysFS had negative value (-1), but there must be at least one NUMA node, so returning NUMA node zero\n",
            "2021-07-12 04:58:52.142453: I tensorflow/compiler/xla/service/service.cc:168] XLA service 0x5634a1660f40 initialized for platform CUDA (this does not guarantee that XLA will be used). Devices:\n",
            "2021-07-12 04:58:52.142484: I tensorflow/compiler/xla/service/service.cc:176]   StreamExecutor device (0): Tesla T4, Compute Capability 7.5\n",
            "2021-07-12 04:58:52.142651: I tensorflow/stream_executor/cuda/cuda_gpu_executor.cc:983] successful NUMA node read from SysFS had negative value (-1), but there must be at least one NUMA node, so returning NUMA node zero\n",
            "2021-07-12 04:58:52.143264: I tensorflow/core/common_runtime/gpu/gpu_device.cc:1639] Found device 0 with properties: \n",
            "name: Tesla T4 major: 7 minor: 5 memoryClockRate(GHz): 1.59\n",
            "pciBusID: 0000:00:04.0\n",
            "2021-07-12 04:58:52.143341: I tensorflow/stream_executor/platform/default/dso_loader.cc:44] Successfully opened dynamic library libcudart.so.10.1\n",
            "2021-07-12 04:58:52.143366: I tensorflow/stream_executor/platform/default/dso_loader.cc:44] Successfully opened dynamic library libcublas.so.10\n",
            "2021-07-12 04:58:52.143387: I tensorflow/stream_executor/platform/default/dso_loader.cc:44] Successfully opened dynamic library libcufft.so.10\n",
            "2021-07-12 04:58:52.143410: I tensorflow/stream_executor/platform/default/dso_loader.cc:44] Successfully opened dynamic library libcurand.so.10\n",
            "2021-07-12 04:58:52.143434: I tensorflow/stream_executor/platform/default/dso_loader.cc:44] Successfully opened dynamic library libcusolver.so.10\n",
            "2021-07-12 04:58:52.143453: I tensorflow/stream_executor/platform/default/dso_loader.cc:44] Successfully opened dynamic library libcusparse.so.10\n",
            "2021-07-12 04:58:52.143472: I tensorflow/stream_executor/platform/default/dso_loader.cc:44] Successfully opened dynamic library libcudnn.so.7\n",
            "2021-07-12 04:58:52.143548: I tensorflow/stream_executor/cuda/cuda_gpu_executor.cc:983] successful NUMA node read from SysFS had negative value (-1), but there must be at least one NUMA node, so returning NUMA node zero\n",
            "2021-07-12 04:58:52.144155: I tensorflow/stream_executor/cuda/cuda_gpu_executor.cc:983] successful NUMA node read from SysFS had negative value (-1), but there must be at least one NUMA node, so returning NUMA node zero\n",
            "2021-07-12 04:58:52.144654: I tensorflow/core/common_runtime/gpu/gpu_device.cc:1767] Adding visible gpu devices: 0\n",
            "2021-07-12 04:58:52.147569: I tensorflow/stream_executor/platform/default/dso_loader.cc:44] Successfully opened dynamic library libcudart.so.10.1\n",
            "2021-07-12 04:58:52.148890: I tensorflow/core/common_runtime/gpu/gpu_device.cc:1180] Device interconnect StreamExecutor with strength 1 edge matrix:\n",
            "2021-07-12 04:58:52.148918: I tensorflow/core/common_runtime/gpu/gpu_device.cc:1186]      0 \n",
            "2021-07-12 04:58:52.148929: I tensorflow/core/common_runtime/gpu/gpu_device.cc:1199] 0:   N \n",
            "2021-07-12 04:58:52.149898: I tensorflow/stream_executor/cuda/cuda_gpu_executor.cc:983] successful NUMA node read from SysFS had negative value (-1), but there must be at least one NUMA node, so returning NUMA node zero\n",
            "2021-07-12 04:58:52.150568: I tensorflow/stream_executor/cuda/cuda_gpu_executor.cc:983] successful NUMA node read from SysFS had negative value (-1), but there must be at least one NUMA node, so returning NUMA node zero\n",
            "2021-07-12 04:58:52.151263: W tensorflow/core/common_runtime/gpu/gpu_bfc_allocator.cc:39] Overriding allow_growth setting because the TF_FORCE_GPU_ALLOW_GROWTH environment variable is set. Original config value was 0.\n",
            "2021-07-12 04:58:52.151316: I tensorflow/core/common_runtime/gpu/gpu_device.cc:1325] Created TensorFlow device (/job:localhost/replica:0/task:0/device:GPU:0 with 14257 MB memory) -> physical GPU (device: 0, name: Tesla T4, pci bus id: 0000:00:04.0, compute capability: 7.5)\n",
            "WARNING:tensorflow:From src/generate_unconditional_samples.py:56: The name tf.set_random_seed is deprecated. Please use tf.compat.v1.set_random_seed instead.\n",
            "\n",
            "WARNING:tensorflow:From /content/gpt-2/src/sample.py:51: The name tf.AUTO_REUSE is deprecated. Please use tf.compat.v1.AUTO_REUSE instead.\n",
            "\n",
            "WARNING:tensorflow:From /content/gpt-2/src/model.py:148: The name tf.variable_scope is deprecated. Please use tf.compat.v1.variable_scope instead.\n",
            "\n",
            "WARNING:tensorflow:From /content/gpt-2/src/model.py:152: The name tf.get_variable is deprecated. Please use tf.compat.v1.get_variable instead.\n",
            "\n",
            "WARNING:tensorflow:From /content/gpt-2/src/model.py:36: The name tf.rsqrt is deprecated. Please use tf.math.rsqrt instead.\n",
            "\n",
            "WARNING:tensorflow:From /content/gpt-2/src/sample.py:64: to_float (from tensorflow.python.ops.math_ops) is deprecated and will be removed in a future version.\n",
            "Instructions for updating:\n",
            "Use `tf.cast` instead.\n",
            "WARNING:tensorflow:From /content/gpt-2/src/sample.py:16: where (from tensorflow.python.ops.array_ops) is deprecated and will be removed in a future version.\n",
            "Instructions for updating:\n",
            "Use tf.where in 2.0, which has the same broadcast rule as np.where\n",
            "WARNING:tensorflow:From /content/gpt-2/src/sample.py:67: multinomial (from tensorflow.python.ops.random_ops) is deprecated and will be removed in a future version.\n",
            "Instructions for updating:\n",
            "Use `tf.random.categorical` instead.\n",
            "WARNING:tensorflow:From src/generate_unconditional_samples.py:65: The name tf.train.Saver is deprecated. Please use tf.compat.v1.train.Saver instead.\n",
            "\n",
            "2021-07-12 04:59:04.319263: I tensorflow/stream_executor/platform/default/dso_loader.cc:44] Successfully opened dynamic library libcublas.so.10\n",
            "======================================== SAMPLE 1 ========================================\n",
            "I've got this up to date and I'm a little bit over a month old, so I think my initial impression was that it looked more like a watermelon than a watermelon. I didn't realize that before I read these, but this seems pretty good, the only downside I saw was that the cup looked bigger! I didn't even really notice the shape of the watermelon.\n",
            "\n",
            "But what makes this watermelon so interesting isn't so much the texture, but rather how the texture of the watermelon is created to look as if it's standing on the inside of a watermelon. It's not very crisp, I suppose. This isn't an unusual watermelon, but it's an interesting one.\n",
            "\n",
            "Why is it this watermelon is so popular?\n",
            "\n",
            "It might seem like an odd choice, but if you are thinking \"why should I care?\" that's because I am thinking too.\n",
            "\n",
            "This is one of those cases where if you're talking\n",
            "======================================== SAMPLE 2 ========================================\n",
            "I've been using my Android smartphone for a while now and I can assure you that it still doesn't always work properly. One of the most noticeable aspects of the device I've tried to improve my Google searches is its \"Google\" prefix. I was able to keep my searches going pretty well without actually experiencing any changes in my search results, but I do experience some lag at times when I use a specific app or even a specific search on my phone.\n",
            "\n",
            "If you really are frustrated with the Nexus 10 being the worst Google experience to date, then I think you'll have to take the time to find some solutions. I've seen some suggestions to remove this prefix and have my Nexus 10 reboot it on my system but I don't have any results yet that I'm willing to recommend this method. You'll see those \"Honey Badger\" recommendations on Google Play which will disable my Google searches. In the case of Honey Badger, it's pretty easy to do that when navigating\n",
            "======================================== SAMPLE 3 ========================================\n",
            "Honey\n",
            "\n",
            "A Honeycomb\n",
            "\n",
            "What You Need\n",
            "\n",
            "A Hormone-Emulating Drug<|endoftext|>MILWAUKEE — Gov. Kate Brown signed a bill Thursday granting new training and other benefits to federal students, ending an effort to eliminate the program.\n",
            "\n",
            "The bill, expected to be a major law reform measure when it is introduced in the Wisconsin Legislature at the end of the day Tuesday, allows state, private and university officials to teach online courses to students at colleges in 25 states with a population of some 6 million students that have their basic human rights in jeopardy.\n",
            "\n",
            "The Wisconsin Supreme Court struck down the law in February, and the state government is also looking to implement a second version next year, Brown said in a statement Thursday. The state has already started enrolling about 10,000 students online in the new program, but the amount of work it's taking to implement the new model should grow. The state Department of Education will provide help to about 8,\n",
            "======================================== SAMPLE 4 ========================================\n",
            "The last couple of months have seen a new wave of news coverage about the Ebola outbreak in West Africa. The stories included reports of hundreds of dead bodies from the disease, and of a \"deadpool\" of Ebola-related deaths. While that has created a good deal of confusion, there were no public images of the corpse.\n",
            "\n",
            "But there was still a body known as \"Noor\". According to information posted on the internet in early August of 2012 on the website of the International Organization for Migration, he was just 15 years old, at the age of just 17 and had already been formally interviewed by Nigeria, Sierra Leone and Nigeria.\n",
            "\n",
            "He was the last living survivor of the most recent outbreak in West Africa. The UN reports that around 500,000 to 1,000 people are now in danger of dying or contracting the virus, and about 500,000 people are believed to have died from the epidemic on a \"near global scale.\"\n",
            "\n",
            "So to those on the fence about\n",
            "======================================== SAMPLE 5 ========================================\n",
            "U.S. officials have said they have never seen a threat to Israel from a group like Hezbollah, which controls a major corridor within the country — not to mention in eastern Lebanon — and as a result of efforts by the United States, the International Atomic Energy Agency and the United Nations Security Council to reach an accord.\n",
            "\n",
            "President Donald Trump has pledged that the deal between Israel and the international community should be completed through early 2017 and is expected to put Iran or a third nuclear-armed state — Iran-Al Qaida — in control. The international community does not consider Hezbollah a hostile power and Israel is in no position to dictate what that is at the moment.\n",
            "\n",
            "The Trump administration has also made it clear that it wants an end to settlements in the West Bank, with President Donald Trump calling U.S. settlements a \"terrible deal\" that would have \"far-reaching consequences\" in Israel's quest to achieve its goal of becoming \"the best friend\" to the Palestinians,\n"
          ],
          "name": "stdout"
        }
      ]
    },
    {
      "cell_type": "markdown",
      "metadata": {
        "id": "MMH-MKWvwS9J"
      },
      "source": [
        "### 문장 추가하여 이어질 문장 생성\n",
        "- Skies are clear and temperatures frosty to begin your Tuesday morning! Bright sunshine will again grace our day, as temperatures warm back to seasonal levels. Winds will be lighter for the afternoon, from the southwest. Quiet overall!"
      ]
    },
    {
      "cell_type": "code",
      "metadata": {
        "colab": {
          "base_uri": "https://localhost:8080/"
        },
        "id": "q1OXrZJrk23e",
        "outputId": "e0193d54-f2e6-49c1-e76e-0da2b2a2ceb0"
      },
      "source": [
        "!python3 src/interactive_conditional_samples.py --model_name='124M' --nsamples=3 --top_k=100 --length=200"
      ],
      "execution_count": 4,
      "outputs": [
        {
          "output_type": "stream",
          "text": [
            "Traceback (most recent call last):\n",
            "  File \"/usr/lib/python3.7/contextlib.py\", line 130, in __exit__\n",
            "    self.gen.throw(type, value, traceback)\n",
            "  File \"/tensorflow-1.15.2/python3.7/tensorflow_core/python/framework/ops.py\", line 5480, in get_controller\n",
            "    yield g\n",
            "  File \"src/interactive_conditional_samples.py\", line 73, in interact_model\n",
            "    raw_text = input(\"Model prompt >>> \")\n",
            "KeyboardInterrupt\n",
            "\n",
            "During handling of the above exception, another exception occurred:\n",
            "\n",
            "Traceback (most recent call last):\n",
            "  File \"src/interactive_conditional_samples.py\", line 91, in <module>\n",
            "    fire.Fire(interact_model)\n",
            "  File \"/usr/local/lib/python3.7/dist-packages/fire/core.py\", line 141, in Fire\n",
            "    component_trace = _Fire(component, args, parsed_flag_args, context, name)\n",
            "  File \"/usr/local/lib/python3.7/dist-packages/fire/core.py\", line 471, in _Fire\n",
            "    target=component.__name__)\n",
            "  File \"/usr/local/lib/python3.7/dist-packages/fire/core.py\", line 681, in _CallAndUpdateTrace\n",
            "    component = fn(*varargs, **kwargs)\n",
            "  File \"src/interactive_conditional_samples.py\", line 88, in interact_model\n",
            "    print(\"=\" * 80)\n",
            "  File \"/tensorflow-1.15.2/python3.7/tensorflow_core/python/client/session.py\", line 1633, in __exit__\n",
            "    close_thread.start()\n",
            "  File \"/usr/lib/python3.7/threading.py\", line 834, in start\n",
            "    def start(self):\n",
            "KeyboardInterrupt\n"
          ],
          "name": "stdout"
        }
      ]
    },
    {
      "cell_type": "markdown",
      "metadata": {
        "id": "cjfOQzXWx2ki"
      },
      "source": [
        "### 자비스 만들기\n",
        "#### 1. 모델 준비하기"
      ]
    },
    {
      "cell_type": "code",
      "metadata": {
        "id": "XImiPwZowqAV",
        "colab": {
          "base_uri": "https://localhost:8080/"
        },
        "outputId": "fb6f760d-6b32-42aa-f734-b2f950ed8957"
      },
      "source": [
        "!python3 download_model.py 1558M"
      ],
      "execution_count": 5,
      "outputs": [
        {
          "output_type": "stream",
          "text": [
            "Fetching checkpoint: 1.00kit [00:00, 1.29Mit/s]                                                     \n",
            "Fetching encoder.json: 1.04Mit [00:00, 3.22Mit/s]                                                   \n",
            "Fetching hparams.json: 1.00kit [00:00, 1.31Mit/s]                                                   \n",
            "Fetching model.ckpt.data-00000-of-00001: 6.23Git [05:54, 17.6Mit/s]                                 \n",
            "Fetching model.ckpt.index: 21.0kit [00:00, 417kit/s]                                                \n",
            "Fetching model.ckpt.meta: 1.84Mit [00:00, 5.22Mit/s]                                                \n",
            "Fetching vocab.bpe: 457kit [00:00, 1.81Mit/s]                                                       \n"
          ],
          "name": "stdout"
        }
      ]
    },
    {
      "cell_type": "markdown",
      "metadata": {
        "id": "tuaP6-uaz6nu"
      },
      "source": [
        "#### 2. 문장 입력하고 결과 보기\n",
        "- [Tony fully suiting up in the Mark II.] Tony Stark: JARVIS, are you there? JARVIS: At your service, sir. Tony Stark: Engage heads-up display. JARVIS: Check. Tony Stark: Import all preferences from home interface. JARVIS: Will do, sir. Tony Stark: All right, what do you say? JARVIS: I have indeed been uploaded, sir. We're online and ready. Tony Stark: Can we start the virtual walk-around? JARVIS: Importing preferences and calibrating virtual environment. Tony Stark: Do a check on control surfaces JARVIS: As you wish. [The full suit is shown.] Test complete. Preparing to power down and begin diagnostics. Tony Stark: Uh, yeah. Tell you what. Do a weather and ATC check. Start listening in on ground control. JARVIS: Sir, there are still terabytes of calculations needed before an actual flight is... Tony Stark: JARVIS! Sometimes you got to run before you can walk. Ready? In three, two, one. [Begins hovering and flies out of the garage into the sky.] Handles like a dream. All right, let's see what this thing can do. JARVIS:"
      ]
    },
    {
      "cell_type": "code",
      "metadata": {
        "id": "WcB42qWezlaj",
        "colab": {
          "base_uri": "https://localhost:8080/"
        },
        "outputId": "245cac0a-d026-4ab8-af5e-486e1a1f7ce0"
      },
      "source": [
        "!python3 src/interactive_conditional_samples.py --model_name='1558M' --nsamples=10 --top_k=300 --length=50"
      ],
      "execution_count": null,
      "outputs": [
        {
          "output_type": "stream",
          "text": [
            "WARNING:tensorflow:From src/interactive_conditional_samples.py:57: The name tf.Session is deprecated. Please use tf.compat.v1.Session instead.\n",
            "\n",
            "2021-07-12 05:25:26.053470: I tensorflow/stream_executor/platform/default/dso_loader.cc:44] Successfully opened dynamic library libcuda.so.1\n",
            "2021-07-12 05:25:26.085315: I tensorflow/stream_executor/cuda/cuda_gpu_executor.cc:983] successful NUMA node read from SysFS had negative value (-1), but there must be at least one NUMA node, so returning NUMA node zero\n",
            "2021-07-12 05:25:26.085900: I tensorflow/core/common_runtime/gpu/gpu_device.cc:1639] Found device 0 with properties: \n",
            "name: Tesla T4 major: 7 minor: 5 memoryClockRate(GHz): 1.59\n",
            "pciBusID: 0000:00:04.0\n",
            "2021-07-12 05:25:26.088938: I tensorflow/stream_executor/platform/default/dso_loader.cc:44] Successfully opened dynamic library libcudart.so.10.1\n",
            "2021-07-12 05:25:26.099573: I tensorflow/stream_executor/platform/default/dso_loader.cc:44] Successfully opened dynamic library libcublas.so.10\n",
            "2021-07-12 05:25:26.105061: I tensorflow/stream_executor/platform/default/dso_loader.cc:44] Successfully opened dynamic library libcufft.so.10\n",
            "2021-07-12 05:25:26.110005: I tensorflow/stream_executor/platform/default/dso_loader.cc:44] Successfully opened dynamic library libcurand.so.10\n",
            "2021-07-12 05:25:26.118015: I tensorflow/stream_executor/platform/default/dso_loader.cc:44] Successfully opened dynamic library libcusolver.so.10\n",
            "2021-07-12 05:25:26.120814: I tensorflow/stream_executor/platform/default/dso_loader.cc:44] Successfully opened dynamic library libcusparse.so.10\n",
            "2021-07-12 05:25:26.131993: I tensorflow/stream_executor/platform/default/dso_loader.cc:44] Successfully opened dynamic library libcudnn.so.7\n",
            "2021-07-12 05:25:26.132139: I tensorflow/stream_executor/cuda/cuda_gpu_executor.cc:983] successful NUMA node read from SysFS had negative value (-1), but there must be at least one NUMA node, so returning NUMA node zero\n",
            "2021-07-12 05:25:26.132739: I tensorflow/stream_executor/cuda/cuda_gpu_executor.cc:983] successful NUMA node read from SysFS had negative value (-1), but there must be at least one NUMA node, so returning NUMA node zero\n",
            "2021-07-12 05:25:26.133258: I tensorflow/core/common_runtime/gpu/gpu_device.cc:1767] Adding visible gpu devices: 0\n",
            "2021-07-12 05:25:26.133619: I tensorflow/core/platform/cpu_feature_guard.cc:142] Your CPU supports instructions that this TensorFlow binary was not compiled to use: AVX512F\n",
            "2021-07-12 05:25:26.137839: I tensorflow/core/platform/profile_utils/cpu_utils.cc:94] CPU Frequency: 2000185000 Hz\n",
            "2021-07-12 05:25:26.138036: I tensorflow/compiler/xla/service/service.cc:168] XLA service 0x556260b6d100 initialized for platform Host (this does not guarantee that XLA will be used). Devices:\n",
            "2021-07-12 05:25:26.138063: I tensorflow/compiler/xla/service/service.cc:176]   StreamExecutor device (0): Host, Default Version\n",
            "2021-07-12 05:25:26.240858: I tensorflow/stream_executor/cuda/cuda_gpu_executor.cc:983] successful NUMA node read from SysFS had negative value (-1), but there must be at least one NUMA node, so returning NUMA node zero\n",
            "2021-07-12 05:25:26.241583: I tensorflow/compiler/xla/service/service.cc:168] XLA service 0x556260b6cf40 initialized for platform CUDA (this does not guarantee that XLA will be used). Devices:\n",
            "2021-07-12 05:25:26.241615: I tensorflow/compiler/xla/service/service.cc:176]   StreamExecutor device (0): Tesla T4, Compute Capability 7.5\n",
            "2021-07-12 05:25:26.241790: I tensorflow/stream_executor/cuda/cuda_gpu_executor.cc:983] successful NUMA node read from SysFS had negative value (-1), but there must be at least one NUMA node, so returning NUMA node zero\n",
            "2021-07-12 05:25:26.242332: I tensorflow/core/common_runtime/gpu/gpu_device.cc:1639] Found device 0 with properties: \n",
            "name: Tesla T4 major: 7 minor: 5 memoryClockRate(GHz): 1.59\n",
            "pciBusID: 0000:00:04.0\n",
            "2021-07-12 05:25:26.242394: I tensorflow/stream_executor/platform/default/dso_loader.cc:44] Successfully opened dynamic library libcudart.so.10.1\n",
            "2021-07-12 05:25:26.242424: I tensorflow/stream_executor/platform/default/dso_loader.cc:44] Successfully opened dynamic library libcublas.so.10\n",
            "2021-07-12 05:25:26.242446: I tensorflow/stream_executor/platform/default/dso_loader.cc:44] Successfully opened dynamic library libcufft.so.10\n",
            "2021-07-12 05:25:26.242470: I tensorflow/stream_executor/platform/default/dso_loader.cc:44] Successfully opened dynamic library libcurand.so.10\n",
            "2021-07-12 05:25:26.242490: I tensorflow/stream_executor/platform/default/dso_loader.cc:44] Successfully opened dynamic library libcusolver.so.10\n",
            "2021-07-12 05:25:26.242508: I tensorflow/stream_executor/platform/default/dso_loader.cc:44] Successfully opened dynamic library libcusparse.so.10\n",
            "2021-07-12 05:25:26.242528: I tensorflow/stream_executor/platform/default/dso_loader.cc:44] Successfully opened dynamic library libcudnn.so.7\n",
            "2021-07-12 05:25:26.242599: I tensorflow/stream_executor/cuda/cuda_gpu_executor.cc:983] successful NUMA node read from SysFS had negative value (-1), but there must be at least one NUMA node, so returning NUMA node zero\n",
            "2021-07-12 05:25:26.243171: I tensorflow/stream_executor/cuda/cuda_gpu_executor.cc:983] successful NUMA node read from SysFS had negative value (-1), but there must be at least one NUMA node, so returning NUMA node zero\n",
            "2021-07-12 05:25:26.243669: I tensorflow/core/common_runtime/gpu/gpu_device.cc:1767] Adding visible gpu devices: 0\n",
            "2021-07-12 05:25:26.243737: I tensorflow/stream_executor/platform/default/dso_loader.cc:44] Successfully opened dynamic library libcudart.so.10.1\n",
            "2021-07-12 05:25:26.244933: I tensorflow/core/common_runtime/gpu/gpu_device.cc:1180] Device interconnect StreamExecutor with strength 1 edge matrix:\n",
            "2021-07-12 05:25:26.244961: I tensorflow/core/common_runtime/gpu/gpu_device.cc:1186]      0 \n",
            "2021-07-12 05:25:26.244972: I tensorflow/core/common_runtime/gpu/gpu_device.cc:1199] 0:   N \n",
            "2021-07-12 05:25:26.245085: I tensorflow/stream_executor/cuda/cuda_gpu_executor.cc:983] successful NUMA node read from SysFS had negative value (-1), but there must be at least one NUMA node, so returning NUMA node zero\n",
            "2021-07-12 05:25:26.245640: I tensorflow/stream_executor/cuda/cuda_gpu_executor.cc:983] successful NUMA node read from SysFS had negative value (-1), but there must be at least one NUMA node, so returning NUMA node zero\n",
            "2021-07-12 05:25:26.246148: W tensorflow/core/common_runtime/gpu/gpu_bfc_allocator.cc:39] Overriding allow_growth setting because the TF_FORCE_GPU_ALLOW_GROWTH environment variable is set. Original config value was 0.\n",
            "2021-07-12 05:25:26.246189: I tensorflow/core/common_runtime/gpu/gpu_device.cc:1325] Created TensorFlow device (/job:localhost/replica:0/task:0/device:GPU:0 with 14257 MB memory) -> physical GPU (device: 0, name: Tesla T4, pci bus id: 0000:00:04.0, compute capability: 7.5)\n",
            "WARNING:tensorflow:From src/interactive_conditional_samples.py:58: The name tf.placeholder is deprecated. Please use tf.compat.v1.placeholder instead.\n",
            "\n",
            "WARNING:tensorflow:From src/interactive_conditional_samples.py:60: The name tf.set_random_seed is deprecated. Please use tf.compat.v1.set_random_seed instead.\n",
            "\n",
            "WARNING:tensorflow:From /content/gpt-2/src/sample.py:51: The name tf.AUTO_REUSE is deprecated. Please use tf.compat.v1.AUTO_REUSE instead.\n",
            "\n",
            "WARNING:tensorflow:From /content/gpt-2/src/model.py:148: The name tf.variable_scope is deprecated. Please use tf.compat.v1.variable_scope instead.\n",
            "\n",
            "WARNING:tensorflow:From /content/gpt-2/src/model.py:152: The name tf.get_variable is deprecated. Please use tf.compat.v1.get_variable instead.\n",
            "\n",
            "WARNING:tensorflow:From /content/gpt-2/src/model.py:36: The name tf.rsqrt is deprecated. Please use tf.math.rsqrt instead.\n",
            "\n",
            "WARNING:tensorflow:From /content/gpt-2/src/sample.py:64: to_float (from tensorflow.python.ops.math_ops) is deprecated and will be removed in a future version.\n",
            "Instructions for updating:\n",
            "Use `tf.cast` instead.\n",
            "WARNING:tensorflow:From /content/gpt-2/src/sample.py:16: where (from tensorflow.python.ops.array_ops) is deprecated and will be removed in a future version.\n",
            "Instructions for updating:\n",
            "Use tf.where in 2.0, which has the same broadcast rule as np.where\n",
            "WARNING:tensorflow:From /content/gpt-2/src/sample.py:67: multinomial (from tensorflow.python.ops.random_ops) is deprecated and will be removed in a future version.\n",
            "Instructions for updating:\n",
            "Use `tf.random.categorical` instead.\n",
            "WARNING:tensorflow:From src/interactive_conditional_samples.py:68: The name tf.train.Saver is deprecated. Please use tf.compat.v1.train.Saver instead.\n",
            "\n",
            "Model prompt >>> [Tony fully suiting up in the Mark II.] Tony Stark: JARVIS, are you there? JARVIS: At your service, sir. Tony Stark: Engage heads-up display. JARVIS: Check. Tony Stark: Import all preferences from home interface. JARVIS: Will do, sir. Tony Stark: All right, what do you say? JARVIS: I have indeed been uploaded, sir. We're online and ready. Tony Stark: Can we start the virtual walk-around? JARVIS: Importing preferences and calibrating virtual environment. Tony Stark: Do a check on control surfaces JARVIS: As you wish. [The full suit is shown.] Test complete. Preparing to power down and begin diagnostics. Tony Stark: Uh, yeah. Tell you what. Do a weather and ATC check. Start listening in on ground control. JARVIS: Sir, there are still terabytes of calculations needed before an actual flight is... Tony Stark: JARVIS! Sometimes you got to run before you can walk. Ready? In three, two, one. [Begins hovering and flies out of the garage into the sky.] Handles like a dream. All right, let's see what this thing can do. JARVIS:\n",
            "2021-07-12 05:29:22.330762: I tensorflow/stream_executor/platform/default/dso_loader.cc:44] Successfully opened dynamic library libcublas.so.10\n",
            "======================================== SAMPLE 1 ========================================\n",
            " An hour ago, sir, we were operating at over a million and forty five billion coordinates simultaneously. Five months, fifty thousand routes mapped to an accuracy of within two millimeters. [Sits in the control room with a list of coordinates and virtual\n",
            "======================================== SAMPLE 2 ========================================\n",
            " Captain William Buck Rogers after the U.S. Army Air Corps, 1941-1944. Flying the \"Flying Fortress\", a reconnaissance plane, as her fourth assignment. Captain Samantha Carter, a pilot and research scientist assigned to the Air Force's Project\n",
            "======================================== SAMPLE 3 ========================================\n",
            " Sir, navigation is correct, sir. Weather...that's good, too. Antenna...that's good. And we're ready to start diagnostics, sir. [He walks out the door, where he and Stark are connected by a tube\n",
            "======================================== SAMPLE 4 ========================================\n",
            " Sir, there's still several - [lights turn off.] — T-Dats on our equipment systems. Tony Stark: We need to get this damn thing off the line, JARVIS. Just sit tight for a minute. [The suit\n",
            "======================================== SAMPLE 5 ========================================\n",
            " A digital, two-way dialogue system is now... [[Cut to a corner of Stark Tower.]] Loki: (whispering) He's awake. [[Cut to Stark Tower.]] Stark: Hurry, let's stop him. We\n",
            "======================================== SAMPLE 6 ========================================\n",
            " All right, sir... [Launches the Mark II into the sky.] Watch as Tony Stark walks-in and sets a speed record. [They soar behind the Falcon and almost disappear, then emerge over Manhattan.] Tony Stark: JARVIS!\n",
            "======================================== SAMPLE 7 ========================================\n",
            " Rocket start! Tony Stark: What's that? JARVIS: Rocket engines engaged, Sir. ATC clearance received, Sir, you'll hear him on your local frequency. And let's see how she does as a first-person experience.\n",
            "======================================== SAMPLE 8 ========================================\n",
            " Testing selected... Tether test to target. Turn indicators on for landing. [At the same time, off-screen: \"The Avengers - Part 1\" begins playing and Tony leaps off the roof.] Tony Stark: Hey, I bet you feel\n",
            "======================================== SAMPLE 9 ========================================\n",
            " Test Log: The first full flight of a virtual Stark. The software has successfully uploaded all of the hardware and software required to create an operational flying form of augmented human, with all of the stored preferences. Preliminary check of actual piloting allows us\n",
            "======================================== SAMPLE 10 ========================================\n",
            " Sanguine skies ahead. Prepare to transmit. Tony Stark: \"Flight capacity needs to be increased in order to support next generation VTOL systems.\" Who knew someone so utterly incompetent could turn out to be the best mechanic of his era? That guy\n",
            "================================================================================\n",
            "Model prompt >>> "
          ],
          "name": "stdout"
        }
      ]
    },
    {
      "cell_type": "markdown",
      "metadata": {
        "id": "V4pucnuIMBI2"
      },
      "source": [
        "- Model prompt >>> [Tony fully suiting up in the Mark II.] Tony Stark: JARVIS, are you there? JARVIS: At your service, sir. Tony Stark: Engage heads-up display. JARVIS: Check. Tony Stark: Import all preferences from home interface. JARVIS: Will do, sir. Tony Stark: All right, what do you say? JARVIS: I have indeed been uploaded, sir. We're online and ready. Tony Stark: Can we start the virtual walk-around? JARVIS: Importing preferences and calibrating virtual environment. Tony Stark: Do a check on control surfaces JARVIS: As you wish. [The full suit is shown.] Test complete. Preparing to power down and begin diagnostics. Tony Stark: Uh, yeah. Tell you what. Do a weather and ATC check. Start listening in on ground control. JARVIS: Sir, there are still terabytes of calculations needed before an actual flight is... Tony Stark: JARVIS! Sometimes you got to run before you can walk. Ready? In three, two, one. [Begins hovering and flies out of the garage into the sky.] Handles like a dream. All right, let's see what this thing can do. JARVIS:\n",
        "2021-07-12 05:29:22.330762: I tensorflow/stream_executor/platform/default/dso_loader.cc:44] Successfully opened dynamic library libcublas.so.10\n",
        "======================================== SAMPLE 1 ========================================\n",
        " An hour ago, sir, we were operating at over a million and forty five billion coordinates simultaneously. Five months, fifty thousand routes mapped to an accuracy of within two millimeters. [Sits in the control room with a list of coordinates and virtual\n",
        "======================================== SAMPLE 2 ========================================\n",
        " Captain William Buck Rogers after the U.S. Army Air Corps, 1941-1944. Flying the \"Flying Fortress\", a reconnaissance plane, as her fourth assignment. Captain Samantha Carter, a pilot and research scientist assigned to the Air Force's Project\n",
        "======================================== SAMPLE 3 ========================================\n",
        " Sir, navigation is correct, sir. Weather...that's good, too. Antenna...that's good. And we're ready to start diagnostics, sir. [He walks out the door, where he and Stark are connected by a tube\n",
        "======================================== SAMPLE 4 ========================================\n",
        " Sir, there's still several - [lights turn off.] — T-Dats on our equipment systems. Tony Stark: We need to get this damn thing off the line, JARVIS. Just sit tight for a minute. [The suit\n",
        "======================================== SAMPLE 5 ========================================\n",
        " A digital, two-way dialogue system is now... [[Cut to a corner of Stark Tower.]] Loki: (whispering) He's awake. [[Cut to Stark Tower.]] Stark: Hurry, let's stop him. We\n",
        "======================================== SAMPLE 6 ========================================\n",
        " All right, sir... [Launches the Mark II into the sky.] Watch as Tony Stark walks-in and sets a speed record. [They soar behind the Falcon and almost disappear, then emerge over Manhattan.] Tony Stark: JARVIS!\n",
        "======================================== SAMPLE 7 ========================================\n",
        " Rocket start! Tony Stark: What's that? JARVIS: Rocket engines engaged, Sir. ATC clearance received, Sir, you'll hear him on your local frequency. And let's see how she does as a first-person experience.\n",
        "======================================== SAMPLE 8 ========================================\n",
        " Testing selected... Tether test to target. Turn indicators on for landing. [At the same time, off-screen: \"The Avengers - Part 1\" begins playing and Tony leaps off the roof.] Tony Stark: Hey, I bet you feel\n",
        "======================================== SAMPLE 9 ========================================\n",
        " Test Log: The first full flight of a virtual Stark. The software has successfully uploaded all of the hardware and software required to create an operational flying form of augmented human, with all of the stored preferences. Preliminary check of actual piloting allows us\n",
        "======================================== SAMPLE 10 ========================================\n",
        " Sanguine skies ahead. Prepare to transmit. Tony Stark: \"Flight capacity needs to be increased in order to support next generation VTOL systems.\" Who knew someone so utterly incompetent could turn out to be the best mechanic of his era? That guy\n",
        "================================================================================"
      ]
    },
    {
      "cell_type": "code",
      "metadata": {
        "id": "9Re_IVD9Nlz6"
      },
      "source": [
        ""
      ],
      "execution_count": null,
      "outputs": []
    }
  ]
}